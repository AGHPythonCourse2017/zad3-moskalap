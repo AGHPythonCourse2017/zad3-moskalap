{
 "cells": [
  {
   "cell_type": "markdown",
   "metadata": {
    "collapsed": true,
    "deletable": true,
    "editable": true
   },
   "source": [
    "# PTVALIDATOR EXAMPLE\n"
   ]
  },
  {
   "cell_type": "raw",
   "metadata": {},
   "source": [
    "First you have to import module and enter a password to decrypt Twitter API key"
   ]
  },
  {
   "cell_type": "code",
   "execution_count": null,
   "metadata": {
    "collapsed": false,
    "deletable": true,
    "editable": true
   },
   "outputs": [],
   "source": [
    "import ptvalidator.checkit as ptv\n",
    "PASSWORD_DECRYPTOR = ''"
   ]
  },
  {
   "cell_type": "raw",
   "metadata": {},
   "source": [
    "Let's check some historical facts"
   ]
  },
  {
   "cell_type": "code",
   "execution_count": null,
   "metadata": {
    "collapsed": true
   },
   "outputs": [],
   "source": [
    "hitler_died_in_1944 = ptv.validate('Adolf Hitler died in 1944',PASSWORD_DECRYPTOR,True)"
   ]
  },
  {
   "cell_type": "code",
   "execution_count": null,
   "metadata": {
    "collapsed": true
   },
   "outputs": [],
   "source": [
    "hitler_died_in_1944.is_true"
   ]
  },
  {
   "cell_type": "raw",
   "metadata": {},
   "source": [
    "Lets check "
   ]
  },
  {
   "cell_type": "code",
   "execution_count": null,
   "metadata": {
    "collapsed": false
   },
   "outputs": [],
   "source": [
    "hitler_died_in_1945 = ptv.validate('Adolf Hitler died in 1945',PASSWORD_DECRYPTOR,True)"
   ]
  },
  {
   "cell_type": "code",
   "execution_count": null,
   "metadata": {
    "collapsed": false
   },
   "outputs": [],
   "source": [
    "hitler_died_in_1945.is_true"
   ]
  },
  {
   "cell_type": "code",
   "execution_count": null,
   "metadata": {
    "collapsed": false
   },
   "outputs": [],
   "source": [
    "hitler_died_in_1945.display_sources()"
   ]
  },
  {
   "cell_type": "raw",
   "metadata": {},
   "source": [
    "Some newspaper headers..."
   ]
  },
  {
   "cell_type": "code",
   "execution_count": null,
   "metadata": {
    "collapsed": false
   },
   "outputs": [],
   "source": [
    "fres = ptv.validate('Ariana Grande offers to pay for funerals of terrorist attack victim',PASSWORD_DECRYPTOR,True)"
   ]
  },
  {
   "cell_type": "code",
   "execution_count": null,
   "metadata": {
    "collapsed": false
   },
   "outputs": [],
   "source": [
    "fres.is_true"
   ]
  },
  {
   "cell_type": "code",
   "execution_count": null,
   "metadata": {
    "collapsed": false
   },
   "outputs": [],
   "source": [
    "fres.display_sources()"
   ]
  },
  {
   "cell_type": "code",
   "execution_count": null,
   "metadata": {
    "collapsed": false
   },
   "outputs": [],
   "source": [
    "missiles = ptv.validate('Russia attacked USA with missiles',PASSWORD_DECRYPTOR,True)"
   ]
  },
  {
   "cell_type": "code",
   "execution_count": null,
   "metadata": {
    "collapsed": false
   },
   "outputs": [],
   "source": [
    "missiles.is_true"
   ]
  }
 ],
 "metadata": {
  "kernelspec": {
   "display_name": "Python 3",
   "language": "python",
   "name": "python3"
  },
  "language_info": {
   "codemirror_mode": {
    "name": "ipython",
    "version": 3
   },
   "file_extension": ".py",
   "mimetype": "text/x-python",
   "name": "python",
   "nbconvert_exporter": "python",
   "pygments_lexer": "ipython3",
   "version": "3.5.2"
  }
 },
 "nbformat": 4,
 "nbformat_minor": 2
}
